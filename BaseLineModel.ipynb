{
 "cells": [
  {
   "cell_type": "code",
   "execution_count": 1,
   "metadata": {},
   "outputs": [],
   "source": [
    "import pandas as pd\n",
    "import dask.dataframe as dd\n",
    "\n",
    "import numpy as np\n",
    "\n",
    "import plotly.express as px\n",
    "\n",
    "from sklearn.ensemble import RandomForestRegressor\n",
    "from sklearn import model_selection, preprocessing, metrics\n",
    "\n",
    "import lightgbm as lgb"
   ]
  },
  {
   "cell_type": "code",
   "execution_count": 2,
   "metadata": {},
   "outputs": [],
   "source": [
    "dtype={\n",
    "    'totals.timeOnSite': 'float64',\n",
    "    'totals.sessionQualityDim': 'float32',\n",
    "    'totals.pageviews': 'float32',\n",
    "    'fullVisitorId': 'object',\n",
    "    'trafficSource.adwordsClickInfo.adNetworkType': 'object',\n",
    "    'trafficSource.adwordsClickInfo.gclId': 'object',\n",
    "    'trafficSource.adwordsClickInfo.slot': 'object',\n",
    "    'trafficSource.campaignCode': 'object'}\n"
   ]
  },
  {
   "cell_type": "code",
   "execution_count": 3,
   "metadata": {},
   "outputs": [],
   "source": [
    "train = dd.read_csv('data/train_v3.csv',dtype= dtype).compute()\n",
    "test = dd.read_csv('data/test_v3.csv',dtype= dtype).compute()"
   ]
  },
  {
   "cell_type": "code",
   "execution_count": 4,
   "metadata": {},
   "outputs": [
    {
     "name": "stdout",
     "output_type": "stream",
     "text": [
      "<class 'pandas.core.frame.DataFrame'>\n",
      "Int64Index: 1708337 entries, 0 to 504\n",
      "Data columns (total 41 columns):\n",
      " #   Column                                        Dtype  \n",
      "---  ------                                        -----  \n",
      " 0   Unnamed: 0                                    int64  \n",
      " 1   channelGrouping                               object \n",
      " 2   customDimensions                              object \n",
      " 3   date                                          object \n",
      " 4   fullVisitorId                                 object \n",
      " 5   hits                                          object \n",
      " 6   visitId                                       int64  \n",
      " 7   visitNumber                                   int64  \n",
      " 8   visitStartTime                                int64  \n",
      " 9   device.browser                                object \n",
      " 10  device.operatingSystem                        object \n",
      " 11  device.isMobile                               bool   \n",
      " 12  device.deviceCategory                         object \n",
      " 13  geoNetwork.continent                          object \n",
      " 14  geoNetwork.subContinent                       object \n",
      " 15  geoNetwork.country                            object \n",
      " 16  geoNetwork.region                             object \n",
      " 17  geoNetwork.metro                              object \n",
      " 18  geoNetwork.city                               object \n",
      " 19  geoNetwork.networkDomain                      object \n",
      " 20  totals.hits                                   int64  \n",
      " 21  totals.pageviews                              float32\n",
      " 22  totals.bounces                                float64\n",
      " 23  totals.newVisits                              float64\n",
      " 24  totals.sessionQualityDim                      float32\n",
      " 25  totals.timeOnSite                             float64\n",
      " 26  totals.transactions                           float64\n",
      " 27  totals.transactionRevenue                     float64\n",
      " 28  totals.totalTransactionRevenue                float64\n",
      " 29  trafficSource.campaign                        object \n",
      " 30  trafficSource.source                          object \n",
      " 31  trafficSource.medium                          object \n",
      " 32  trafficSource.keyword                         object \n",
      " 33  trafficSource.referralPath                    object \n",
      " 34  trafficSource.isTrueDirect                    object \n",
      " 35  trafficSource.adContent                       object \n",
      " 36  trafficSource.adwordsClickInfo.page           float64\n",
      " 37  trafficSource.adwordsClickInfo.slot           object \n",
      " 38  trafficSource.adwordsClickInfo.gclId          object \n",
      " 39  trafficSource.adwordsClickInfo.adNetworkType  object \n",
      " 40  trafficSource.adwordsClickInfo.isVideoAd      float64\n",
      "dtypes: bool(1), float32(2), float64(8), int64(5), object(25)\n",
      "memory usage: 523.0+ MB\n"
     ]
    }
   ],
   "source": [
    "train.info()"
   ]
  },
  {
   "cell_type": "code",
   "execution_count": 5,
   "metadata": {},
   "outputs": [],
   "source": [
    "test.drop('totals.totalTransactionRevenue', axis = 1, inplace = True)"
   ]
  },
  {
   "cell_type": "code",
   "execution_count": 6,
   "metadata": {},
   "outputs": [],
   "source": [
    "train['totals.transactionRevenue'].fillna(0,inplace=True)"
   ]
  },
  {
   "cell_type": "code",
   "execution_count": 7,
   "metadata": {},
   "outputs": [],
   "source": [
    "train_y = train['totals.transactionRevenue'].values\n",
    "train_id = train['fullVisitorId'].values\n",
    "\n",
    "test_id = test['fullVisitorId'].values"
   ]
  },
  {
   "cell_type": "code",
   "execution_count": 8,
   "metadata": {},
   "outputs": [],
   "source": [
    "cat_cols = [\"channelGrouping\", \"device.browser\", \n",
    "            \"device.deviceCategory\", \"device.operatingSystem\", \n",
    "            \"geoNetwork.city\", \"geoNetwork.continent\", \n",
    "            \"geoNetwork.country\", \"geoNetwork.metro\",\n",
    "            \"geoNetwork.networkDomain\", \"geoNetwork.region\", \n",
    "            \"geoNetwork.subContinent\", \"trafficSource.adContent\", \n",
    "            \"trafficSource.adwordsClickInfo.adNetworkType\", \n",
    "            \"trafficSource.adwordsClickInfo.gclId\", \n",
    "            \"trafficSource.adwordsClickInfo.page\", \n",
    "            \"trafficSource.adwordsClickInfo.slot\", \"trafficSource.campaign\",\n",
    "            \"trafficSource.keyword\", \"trafficSource.medium\", \n",
    "            \"trafficSource.referralPath\", \"trafficSource.source\",\n",
    "            'trafficSource.adwordsClickInfo.isVideoAd', 'trafficSource.isTrueDirect']"
   ]
  },
  {
   "cell_type": "code",
   "execution_count": 9,
   "metadata": {},
   "outputs": [
    {
     "name": "stdout",
     "output_type": "stream",
     "text": [
      "channelGrouping\n",
      "device.browser\n",
      "device.deviceCategory\n",
      "device.operatingSystem\n",
      "geoNetwork.city\n",
      "geoNetwork.continent\n",
      "geoNetwork.country\n",
      "geoNetwork.metro\n",
      "geoNetwork.networkDomain\n",
      "geoNetwork.region\n",
      "geoNetwork.subContinent\n",
      "trafficSource.adContent\n",
      "trafficSource.adwordsClickInfo.adNetworkType\n",
      "trafficSource.adwordsClickInfo.gclId\n",
      "trafficSource.adwordsClickInfo.page\n",
      "trafficSource.adwordsClickInfo.slot\n",
      "trafficSource.campaign\n",
      "trafficSource.keyword\n",
      "trafficSource.medium\n",
      "trafficSource.referralPath\n",
      "trafficSource.source\n",
      "trafficSource.adwordsClickInfo.isVideoAd\n",
      "trafficSource.isTrueDirect\n"
     ]
    }
   ],
   "source": [
    "for col in cat_cols:\n",
    "    print(col)\n",
    "    lbl = preprocessing.LabelEncoder()\n",
    "    lbl.fit(list(train[col].values.astype('str'))+list(test[col].values.astype('str')))\n",
    "    train[col] = lbl.transform(list(train[col].values.astype('str')))   \n",
    "    test[col] = lbl.transform(list(test[col].values.astype('str')))"
   ]
  },
  {
   "cell_type": "code",
   "execution_count": 10,
   "metadata": {},
   "outputs": [],
   "source": [
    "num_cols = [\"totals.hits\", \"totals.pageviews\", \"visitNumber\", \"visitStartTime\", 'totals.bounces',  'totals.newVisits']\n",
    "for col in num_cols:\n",
    "    train[col] = train[col].astype(float)\n",
    "    test[col] = test[col].astype(float)"
   ]
  },
  {
   "cell_type": "code",
   "execution_count": 17,
   "metadata": {},
   "outputs": [],
   "source": [
    "from datetime import datetime"
   ]
  },
  {
   "cell_type": "code",
   "execution_count": 44,
   "metadata": {},
   "outputs": [],
   "source": [
    "train['date'] = pd.to_datetime(train['date'])\n",
    "test['date'] = pd.to_datetime(test['date'])"
   ]
  },
  {
   "cell_type": "code",
   "execution_count": 75,
   "metadata": {},
   "outputs": [],
   "source": [
    "dev_df = train[train['date']<=datetime.strptime('20171231', '%Y%m%d')]\n",
    "val_df = train[train['date']> datetime.strptime('20171231', '%Y%m%d')]"
   ]
  },
  {
   "cell_type": "code",
   "execution_count": 76,
   "metadata": {},
   "outputs": [
    {
     "data": {
      "text/plain": [
       "((1365253, 41), (343084, 41))"
      ]
     },
     "execution_count": 76,
     "metadata": {},
     "output_type": "execute_result"
    }
   ],
   "source": [
    "dev_df.shape,val_df.shape"
   ]
  },
  {
   "cell_type": "code",
   "execution_count": 77,
   "metadata": {},
   "outputs": [],
   "source": [
    "dev_y = np.log1p(dev_df['totals.transactionRevenue'].values)\n",
    "val_y = np.log1p(val_df['totals.transactionRevenue'].values)"
   ]
  },
  {
   "cell_type": "code",
   "execution_count": 78,
   "metadata": {},
   "outputs": [],
   "source": [
    "dev_X = dev_df[cat_cols + num_cols]\n",
    "val_X = val_df[cat_cols + num_cols]\n",
    "test_X = test[cat_cols+num_cols]"
   ]
  },
  {
   "cell_type": "code",
   "execution_count": 79,
   "metadata": {},
   "outputs": [],
   "source": [
    "def run_lgb(train_X,train_y,val_X,val_y,test_X):\n",
    "    params = {\n",
    "        \"objective\":\"regression\",\n",
    "        \"metric\":\"rmse\",\n",
    "        \"num_leaves\":30,\n",
    "        \"min_child_samples\":100,\n",
    "        \"learning_rate\":0.1,\n",
    "        \"bagging_fraction\":0.7,\n",
    "        \"feature_fraction\":0.5,\n",
    "        \"bagging_frequency\":5,\n",
    "        \"bagging_seed\":2018,\n",
    "        \"verbosity\":-1\n",
    "    }\n",
    "    lgtrain = lgb.Dataset(train_X,label = train_y)\n",
    "    lgval = lgb.Dataset(val_X,label = val_y)\n",
    "    model = lgb.train(params, lgtrain,1000,valid_sets = [lgval],early_stopping_rounds = 100, verbose_eval = 100)\n",
    "    \n",
    "    pred_val_y = model.predict(val_X, num_iteration = model.best_iteration)\n",
    "    pred_test_y = model.predict(test_X,num_iteration = model.best_iteration)\n",
    "    \n",
    "    return model, pred_val_y, pred_test_y"
   ]
  },
  {
   "cell_type": "code",
   "execution_count": 80,
   "metadata": {},
   "outputs": [
    {
     "name": "stdout",
     "output_type": "stream",
     "text": [
      "[LightGBM] [Warning] Unknown parameter: bagging_frequency\n",
      "Training until validation scores don't improve for 100 rounds\n",
      "[100]\tvalid_0's rmse: 1.41975\n",
      "[200]\tvalid_0's rmse: 1.41881\n",
      "Early stopping, best iteration is:\n",
      "[197]\tvalid_0's rmse: 1.41869\n"
     ]
    }
   ],
   "source": [
    "model , pred_val,pred_test = run_lgb(dev_X, dev_y, val_X, val_y,test_X)"
   ]
  },
  {
   "cell_type": "code",
   "execution_count": 81,
   "metadata": {},
   "outputs": [],
   "source": [
    "from sklearn import metrics\n",
    "\n",
    "pred_val[pred_val<0] = 0\n",
    "pred_test[pred_test<0] = 0\n",
    "\n",
    "val_pred_df = pd.DataFrame({'fullVisitorId':val_df['fullVisitorId'].values})\n",
    "val_pred_df['transactionRevenue'] = val_df['totals.transactionRevenue'].values\n",
    "val_pred_df['predictedRevenue'] = np.expm1(pred_val)\n",
    "\n",
    "test_pred_df = pd.DataFrame({'fullVisitorId':test_id})\n",
    "test_pred_df['predictedRevenue'] = np.expm1(pred_test)"
   ]
  },
  {
   "cell_type": "code",
   "execution_count": 83,
   "metadata": {},
   "outputs": [],
   "source": [
    "val_pred_df = val_pred_df.groupby('fullVisitorId').agg({'transactionRevenue':'sum','predictedRevenue':'sum'}).reset_index()\n",
    "test_pred_df = test_pred_df.groupby('fullVisitorId').agg({'predictedRevenue':'sum'}).reset_index()"
   ]
  },
  {
   "cell_type": "code",
   "execution_count": 85,
   "metadata": {},
   "outputs": [
    {
     "data": {
      "text/plain": [
       "1.4902999353727124"
      ]
     },
     "execution_count": 85,
     "metadata": {},
     "output_type": "execute_result"
    }
   ],
   "source": [
    "np.sqrt(metrics.mean_squared_error(np.log1p(val_pred_df['transactionRevenue']),np.log1p(val_pred_df['predictedRevenue'])))"
   ]
  },
  {
   "cell_type": "code",
   "execution_count": 86,
   "metadata": {},
   "outputs": [],
   "source": [
    "test_pred_df.rename(columns={'predictedRevenue':'PredictedLogRevenue'},inplace=True)"
   ]
  },
  {
   "cell_type": "code",
   "execution_count": 90,
   "metadata": {},
   "outputs": [],
   "source": [
    "test_pred_df['PredictedLogRevenue'] = np.log1p(test_pred_df['PredictedLogRevenue'])"
   ]
  },
  {
   "cell_type": "code",
   "execution_count": 91,
   "metadata": {},
   "outputs": [],
   "source": [
    "test_pred_df.to_csv('submission.csv',index=False)"
   ]
  },
  {
   "cell_type": "code",
   "execution_count": 74,
   "metadata": {},
   "outputs": [],
   "source": [
    "sub = pd.read_csv('submission.csv')"
   ]
  }
 ],
 "metadata": {
  "kernelspec": {
   "display_name": "Python 3",
   "language": "python",
   "name": "python3"
  },
  "language_info": {
   "codemirror_mode": {
    "name": "ipython",
    "version": 3
   },
   "file_extension": ".py",
   "mimetype": "text/x-python",
   "name": "python",
   "nbconvert_exporter": "python",
   "pygments_lexer": "ipython3",
   "version": "3.7.6"
  }
 },
 "nbformat": 4,
 "nbformat_minor": 4
}
